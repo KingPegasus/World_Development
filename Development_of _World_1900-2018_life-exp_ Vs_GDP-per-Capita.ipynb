{
 "cells": [
  {
   "cell_type": "markdown",
   "metadata": {},
   "source": [
    "# Notebook by M. Raza Khalid Saleemi\n",
    "## Scatter Plot \"Life Expectancy\" vs \" GDP per capita\" with Population"
   ]
  },
  {
   "cell_type": "markdown",
   "metadata": {},
   "source": [
    "### Importing Libraries"
   ]
  },
  {
   "cell_type": "code",
   "execution_count": 1,
   "metadata": {},
   "outputs": [],
   "source": [
    "import pandas as pd\n",
    "import numpy as np\n",
    "import matplotlib.pyplot as plt\n",
    "import datetime\n",
    "import imageio\n",
    "import PIL\n",
    "import matplotlib\n",
    "from matplotlib.lines import Line2D\n",
    "from platform import python_version\n",
    "%matplotlib inline"
   ]
  },
  {
   "cell_type": "code",
   "execution_count": 2,
   "metadata": {},
   "outputs": [
    {
     "name": "stdout",
     "output_type": "stream",
     "text": [
      "Python version: 3.7.6\n",
      "Conda version: 7.0.0\n",
      "Pandas version: 1.0.1\n",
      "Numpy version: 1.18.1\n",
      "matplotlib version: 3.1.3\n",
      "imageio version: 2.6.1\n",
      "PIL version: 7.0.0\n"
     ]
    }
   ],
   "source": [
    "print(\"Python version: %s\" %python_version())\n",
    "print(\"Conda version: %s\" %PIL.__version__)\n",
    "print(\"Pandas version: %s\" %pd.__version__)\n",
    "print(\"Numpy version: %s\" %np.__version__)\n",
    "print(\"matplotlib version: %s\" %matplotlib.__version__)\n",
    "print(\"imageio version: %s\" %imageio.__version__)\n",
    "print(\"PIL version: %s\" %PIL.__version__)\n"
   ]
  },
  {
   "cell_type": "markdown",
   "metadata": {},
   "source": [
    "### Load required csv"
   ]
  },
  {
   "cell_type": "code",
   "execution_count": 3,
   "metadata": {},
   "outputs": [],
   "source": [
    "df_total_pop = pd.read_csv(\"population_total.csv\")\n",
    "df_gdp_cap = pd.read_csv(\"income_per_person_gdppercapita_ppp_inflation_adjusted.csv\")\n",
    "df_life_exp = pd.read_csv(\"life_expectancy_years.csv\")\n",
    "data_region = pd.read_csv('gapminder.csv') # For loading data for region"
   ]
  },
  {
   "cell_type": "markdown",
   "metadata": {},
   "source": [
    "### Selecting columns of year from 1900 to 2018"
   ]
  },
  {
   "cell_type": "code",
   "execution_count": 4,
   "metadata": {},
   "outputs": [
    {
     "data": {
      "text/plain": [
       "Index(['country', '1800', '1801', '1802', '1803', '1804', '1805', '1806',\n",
       "       '1807', '1808',\n",
       "       ...\n",
       "       '2091', '2092', '2093', '2094', '2095', '2096', '2097', '2098', '2099',\n",
       "       '2100'],\n",
       "      dtype='object', length=302)"
      ]
     },
     "execution_count": 4,
     "metadata": {},
     "output_type": "execute_result"
    }
   ],
   "source": [
    "df_total_pop.columns"
   ]
  },
  {
   "cell_type": "code",
   "execution_count": 5,
   "metadata": {},
   "outputs": [
    {
     "data": {
      "text/plain": [
       "Index(['country', '1800', '1801', '1802', '1803', '1804', '1805', '1806',\n",
       "       '1807', '1808',\n",
       "       ...\n",
       "       '2031', '2032', '2033', '2034', '2035', '2036', '2037', '2038', '2039',\n",
       "       '2040'],\n",
       "      dtype='object', length=242)"
      ]
     },
     "execution_count": 5,
     "metadata": {},
     "output_type": "execute_result"
    }
   ],
   "source": [
    "df_gdp_cap.columns"
   ]
  },
  {
   "cell_type": "code",
   "execution_count": 6,
   "metadata": {},
   "outputs": [
    {
     "data": {
      "text/plain": [
       "Index(['country', '1800', '1801', '1802', '1803', '1804', '1805', '1806',\n",
       "       '1807', '1808',\n",
       "       ...\n",
       "       '2009', '2010', '2011', '2012', '2013', '2014', '2015', '2016', '2017',\n",
       "       '2018'],\n",
       "      dtype='object', length=220)"
      ]
     },
     "execution_count": 6,
     "metadata": {},
     "output_type": "execute_result"
    }
   ],
   "source": [
    "df_life_exp.columns"
   ]
  },
  {
   "cell_type": "code",
   "execution_count": 7,
   "metadata": {},
   "outputs": [],
   "source": [
    "#Dropping columns 1800 to 1899\n",
    "for i in range(1800,1900):\n",
    "    df_total_pop =df_total_pop .drop(columns = str(i))\n",
    "    df_life_exp = df_life_exp.drop(columns= str(i))\n",
    "    df_gdp_cap =df_gdp_cap.drop(columns= str(i))"
   ]
  },
  {
   "cell_type": "code",
   "execution_count": 8,
   "metadata": {},
   "outputs": [],
   "source": [
    "#Dropping columns 2019 to 2100\n",
    "for i in range(2019,2101):\n",
    "    df_total_pop =df_total_pop .drop(columns = str(i))\n",
    "for i in range(2019,2041):\n",
    "    df_gdp_cap .drop(columns = str(i),inplace = True)"
   ]
  },
  {
   "cell_type": "code",
   "execution_count": 9,
   "metadata": {},
   "outputs": [
    {
     "data": {
      "text/html": [
       "<div>\n",
       "<style scoped>\n",
       "    .dataframe tbody tr th:only-of-type {\n",
       "        vertical-align: middle;\n",
       "    }\n",
       "\n",
       "    .dataframe tbody tr th {\n",
       "        vertical-align: top;\n",
       "    }\n",
       "\n",
       "    .dataframe thead th {\n",
       "        text-align: right;\n",
       "    }\n",
       "</style>\n",
       "<table border=\"1\" class=\"dataframe\">\n",
       "  <thead>\n",
       "    <tr style=\"text-align: right;\">\n",
       "      <th></th>\n",
       "      <th>country</th>\n",
       "      <th>1900</th>\n",
       "      <th>1901</th>\n",
       "      <th>1902</th>\n",
       "      <th>1903</th>\n",
       "      <th>1904</th>\n",
       "      <th>1905</th>\n",
       "      <th>1906</th>\n",
       "      <th>1907</th>\n",
       "      <th>1908</th>\n",
       "      <th>...</th>\n",
       "      <th>2009</th>\n",
       "      <th>2010</th>\n",
       "      <th>2011</th>\n",
       "      <th>2012</th>\n",
       "      <th>2013</th>\n",
       "      <th>2014</th>\n",
       "      <th>2015</th>\n",
       "      <th>2016</th>\n",
       "      <th>2017</th>\n",
       "      <th>2018</th>\n",
       "    </tr>\n",
       "  </thead>\n",
       "  <tbody>\n",
       "    <tr>\n",
       "      <th>0</th>\n",
       "      <td>Afghanistan</td>\n",
       "      <td>793</td>\n",
       "      <td>796</td>\n",
       "      <td>798</td>\n",
       "      <td>801</td>\n",
       "      <td>804</td>\n",
       "      <td>807</td>\n",
       "      <td>809</td>\n",
       "      <td>812</td>\n",
       "      <td>815</td>\n",
       "      <td>...</td>\n",
       "      <td>1530</td>\n",
       "      <td>1610</td>\n",
       "      <td>1660</td>\n",
       "      <td>1840</td>\n",
       "      <td>1810</td>\n",
       "      <td>1780</td>\n",
       "      <td>1750</td>\n",
       "      <td>1740</td>\n",
       "      <td>1800</td>\n",
       "      <td>1870</td>\n",
       "    </tr>\n",
       "    <tr>\n",
       "      <th>1</th>\n",
       "      <td>Albania</td>\n",
       "      <td>1160</td>\n",
       "      <td>1170</td>\n",
       "      <td>1190</td>\n",
       "      <td>1200</td>\n",
       "      <td>1220</td>\n",
       "      <td>1240</td>\n",
       "      <td>1250</td>\n",
       "      <td>1270</td>\n",
       "      <td>1290</td>\n",
       "      <td>...</td>\n",
       "      <td>9530</td>\n",
       "      <td>9930</td>\n",
       "      <td>10200</td>\n",
       "      <td>10400</td>\n",
       "      <td>10500</td>\n",
       "      <td>10700</td>\n",
       "      <td>11000</td>\n",
       "      <td>11400</td>\n",
       "      <td>11900</td>\n",
       "      <td>12400</td>\n",
       "    </tr>\n",
       "    <tr>\n",
       "      <th>2</th>\n",
       "      <td>Algeria</td>\n",
       "      <td>1750</td>\n",
       "      <td>1770</td>\n",
       "      <td>1790</td>\n",
       "      <td>1810</td>\n",
       "      <td>1830</td>\n",
       "      <td>1850</td>\n",
       "      <td>1870</td>\n",
       "      <td>1890</td>\n",
       "      <td>1910</td>\n",
       "      <td>...</td>\n",
       "      <td>12600</td>\n",
       "      <td>12900</td>\n",
       "      <td>13000</td>\n",
       "      <td>13200</td>\n",
       "      <td>13300</td>\n",
       "      <td>13500</td>\n",
       "      <td>13700</td>\n",
       "      <td>14000</td>\n",
       "      <td>13800</td>\n",
       "      <td>13700</td>\n",
       "    </tr>\n",
       "    <tr>\n",
       "      <th>3</th>\n",
       "      <td>Andorra</td>\n",
       "      <td>3200</td>\n",
       "      <td>3230</td>\n",
       "      <td>3270</td>\n",
       "      <td>3310</td>\n",
       "      <td>3350</td>\n",
       "      <td>3390</td>\n",
       "      <td>3430</td>\n",
       "      <td>3470</td>\n",
       "      <td>3510</td>\n",
       "      <td>...</td>\n",
       "      <td>41700</td>\n",
       "      <td>39000</td>\n",
       "      <td>42000</td>\n",
       "      <td>41900</td>\n",
       "      <td>43700</td>\n",
       "      <td>44900</td>\n",
       "      <td>46600</td>\n",
       "      <td>48200</td>\n",
       "      <td>49800</td>\n",
       "      <td>51500</td>\n",
       "    </tr>\n",
       "    <tr>\n",
       "      <th>4</th>\n",
       "      <td>Angola</td>\n",
       "      <td>958</td>\n",
       "      <td>962</td>\n",
       "      <td>967</td>\n",
       "      <td>971</td>\n",
       "      <td>975</td>\n",
       "      <td>979</td>\n",
       "      <td>984</td>\n",
       "      <td>988</td>\n",
       "      <td>992</td>\n",
       "      <td>...</td>\n",
       "      <td>5910</td>\n",
       "      <td>5900</td>\n",
       "      <td>5910</td>\n",
       "      <td>6000</td>\n",
       "      <td>6190</td>\n",
       "      <td>6260</td>\n",
       "      <td>6230</td>\n",
       "      <td>6030</td>\n",
       "      <td>5940</td>\n",
       "      <td>5850</td>\n",
       "    </tr>\n",
       "  </tbody>\n",
       "</table>\n",
       "<p>5 rows × 120 columns</p>\n",
       "</div>"
      ],
      "text/plain": [
       "       country  1900  1901  1902  1903  1904  1905  1906  1907  1908  ...  \\\n",
       "0  Afghanistan   793   796   798   801   804   807   809   812   815  ...   \n",
       "1      Albania  1160  1170  1190  1200  1220  1240  1250  1270  1290  ...   \n",
       "2      Algeria  1750  1770  1790  1810  1830  1850  1870  1890  1910  ...   \n",
       "3      Andorra  3200  3230  3270  3310  3350  3390  3430  3470  3510  ...   \n",
       "4       Angola   958   962   967   971   975   979   984   988   992  ...   \n",
       "\n",
       "    2009   2010   2011   2012   2013   2014   2015   2016   2017   2018  \n",
       "0   1530   1610   1660   1840   1810   1780   1750   1740   1800   1870  \n",
       "1   9530   9930  10200  10400  10500  10700  11000  11400  11900  12400  \n",
       "2  12600  12900  13000  13200  13300  13500  13700  14000  13800  13700  \n",
       "3  41700  39000  42000  41900  43700  44900  46600  48200  49800  51500  \n",
       "4   5910   5900   5910   6000   6190   6260   6230   6030   5940   5850  \n",
       "\n",
       "[5 rows x 120 columns]"
      ]
     },
     "execution_count": 9,
     "metadata": {},
     "output_type": "execute_result"
    }
   ],
   "source": [
    "df_gdp_cap.head()"
   ]
  },
  {
   "cell_type": "markdown",
   "metadata": {},
   "source": [
    "### Removing countries from df_total_pop and df_gdp_cap which are not in df_life_exp"
   ]
  },
  {
   "cell_type": "code",
   "execution_count": 10,
   "metadata": {},
   "outputs": [
    {
     "data": {
      "text/plain": [
       "(187, 120)"
      ]
     },
     "execution_count": 10,
     "metadata": {},
     "output_type": "execute_result"
    }
   ],
   "source": [
    "df_life_exp.shape"
   ]
  },
  {
   "cell_type": "code",
   "execution_count": 11,
   "metadata": {},
   "outputs": [
    {
     "data": {
      "text/plain": [
       "(195, 120)"
      ]
     },
     "execution_count": 11,
     "metadata": {},
     "output_type": "execute_result"
    }
   ],
   "source": [
    "df_total_pop.shape"
   ]
  },
  {
   "cell_type": "code",
   "execution_count": 12,
   "metadata": {},
   "outputs": [
    {
     "data": {
      "text/plain": [
       "(193, 120)"
      ]
     },
     "execution_count": 12,
     "metadata": {},
     "output_type": "execute_result"
    }
   ],
   "source": [
    "df_gdp_cap.shape"
   ]
  },
  {
   "cell_type": "code",
   "execution_count": 13,
   "metadata": {},
   "outputs": [
    {
     "name": "stdout",
     "output_type": "stream",
     "text": [
      "['Afghanistan', 'Albania', 'Algeria', 'Andorra', 'Angola', 'Antigua and Barbuda', 'Argentina', 'Armenia', 'Australia', 'Austria', 'Azerbaijan', 'Bahamas', 'Bahrain', 'Bangladesh', 'Barbados', 'Belarus', 'Belgium', 'Belize', 'Benin', 'Bhutan', 'Bolivia', 'Bosnia and Herzegovina', 'Botswana', 'Brazil', 'Brunei', 'Bulgaria', 'Burkina Faso', 'Burundi', 'Cambodia', 'Cameroon', 'Canada', 'Cape Verde', 'Central African Republic', 'Chad', 'Chile', 'China', 'Colombia', 'Comoros', 'Congo, Dem. Rep.', 'Congo, Rep.', 'Costa Rica', \"Cote d'Ivoire\", 'Croatia', 'Cuba', 'Cyprus', 'Czech Republic', 'Denmark', 'Djibouti', 'Dominica', 'Dominican Republic', 'Ecuador', 'Egypt', 'El Salvador', 'Equatorial Guinea', 'Eritrea', 'Estonia', 'Ethiopia', 'Fiji', 'Finland', 'France', 'Gabon', 'Gambia', 'Georgia', 'Germany', 'Ghana', 'Greece', 'Grenada', 'Guatemala', 'Guinea', 'Guinea-Bissau', 'Guyana', 'Haiti', 'Holy See', 'Honduras', 'Hungary', 'Iceland', 'India', 'Indonesia', 'Iran', 'Iraq', 'Ireland', 'Israel', 'Italy', 'Jamaica', 'Japan', 'Jordan', 'Kazakhstan', 'Kenya', 'Kiribati', 'Kuwait', 'Kyrgyz Republic', 'Lao', 'Latvia', 'Lebanon', 'Lesotho', 'Liberia', 'Libya', 'Liechtenstein', 'Lithuania', 'Luxembourg', 'Macedonia, FYR', 'Madagascar', 'Malawi', 'Malaysia', 'Maldives', 'Mali', 'Malta', 'Marshall Islands', 'Mauritania', 'Mauritius', 'Mexico', 'Micronesia, Fed. Sts.', 'Moldova', 'Monaco', 'Mongolia', 'Montenegro', 'Morocco', 'Mozambique', 'Myanmar', 'Namibia', 'Nauru', 'Nepal', 'Netherlands', 'New Zealand', 'Nicaragua', 'Niger', 'Nigeria', 'North Korea', 'Norway', 'Oman', 'Pakistan', 'Palau', 'Palestine', 'Panama', 'Papua New Guinea', 'Paraguay', 'Peru', 'Philippines', 'Poland', 'Portugal', 'Qatar', 'Romania', 'Russia', 'Rwanda', 'Samoa', 'San Marino', 'Sao Tome and Principe', 'Saudi Arabia', 'Senegal', 'Serbia', 'Seychelles', 'Sierra Leone', 'Singapore', 'Slovak Republic', 'Slovenia', 'Solomon Islands', 'Somalia', 'South Africa', 'South Korea', 'South Sudan', 'Spain', 'Sri Lanka', 'St. Kitts and Nevis', 'St. Lucia', 'St. Vincent and the Grenadines', 'Sudan', 'Suriname', 'Swaziland', 'Sweden', 'Switzerland', 'Syria', 'Tajikistan', 'Tanzania', 'Thailand', 'Timor-Leste', 'Togo', 'Tonga', 'Trinidad and Tobago', 'Tunisia', 'Turkey', 'Turkmenistan', 'Tuvalu', 'Uganda', 'Ukraine', 'United Arab Emirates', 'United Kingdom', 'United States', 'Uruguay', 'Uzbekistan', 'Vanuatu', 'Venezuela', 'Vietnam', 'Yemen', 'Zambia', 'Zimbabwe']\n"
     ]
    }
   ],
   "source": [
    "print(list(df_total_pop['country'].unique()))"
   ]
  },
  {
   "cell_type": "code",
   "execution_count": 14,
   "metadata": {},
   "outputs": [
    {
     "data": {
      "text/plain": [
       "(187, 120)"
      ]
     },
     "execution_count": 14,
     "metadata": {},
     "output_type": "execute_result"
    }
   ],
   "source": [
    "# removing country data in df_total_pop, which is not given in df_life_exp \n",
    "index = []\n",
    "for j,x in enumerate(df_total_pop['country'].unique()):\n",
    "    found = False\n",
    "    for i,y in enumerate(df_life_exp['country'].unique()):\n",
    "        if df_life_exp['country'].unique()[i] == x:\n",
    "            \n",
    "            found = True\n",
    "            break\n",
    "    if not found:\n",
    "        index += [j]\n",
    "        \n",
    "\n",
    "df_total_pop.drop(index, inplace = True)\n",
    "df_total_pop.shape"
   ]
  },
  {
   "cell_type": "code",
   "execution_count": 15,
   "metadata": {},
   "outputs": [
    {
     "data": {
      "text/plain": [
       "(187, 120)"
      ]
     },
     "execution_count": 15,
     "metadata": {},
     "output_type": "execute_result"
    }
   ],
   "source": [
    "# removing country data in df_gdp_cap, which is not given in df_life_exp \n",
    "index = []\n",
    "for j,x in enumerate(df_gdp_cap['country'].unique()):\n",
    "    found = False\n",
    "    for i,y in enumerate(df_life_exp['country'].unique()):\n",
    "        if df_life_exp['country'].unique()[i] == x:\n",
    "            found = True\n",
    "            break\n",
    "    if not found:\n",
    "        index += [j]\n",
    "\n",
    "df_gdp_cap.drop(index, inplace=True)\n",
    "df_gdp_cap.shape"
   ]
  },
  {
   "cell_type": "code",
   "execution_count": 16,
   "metadata": {},
   "outputs": [
    {
     "data": {
      "text/plain": [
       "120"
      ]
     },
     "execution_count": 16,
     "metadata": {},
     "output_type": "execute_result"
    }
   ],
   "source": [
    "df_life_exp.shape[1]"
   ]
  },
  {
   "cell_type": "markdown",
   "metadata": {},
   "source": [
    "### Adjusting the countries data sequence"
   ]
  },
  {
   "cell_type": "code",
   "execution_count": 17,
   "metadata": {},
   "outputs": [
    {
     "name": "stdout",
     "output_type": "stream",
     "text": [
      "22253\n",
      "22253\n"
     ]
    }
   ],
   "source": [
    "list_countries_col = []\n",
    "\n",
    "for i in range(df_life_exp.shape[0]):\n",
    "    list_countries_col += [df_life_exp.loc[i,'country']]*(df_life_exp.shape[1]-1)\n",
    "    \n",
    "print(len(list_countries_col))\n",
    "print(187*119)"
   ]
  },
  {
   "cell_type": "code",
   "execution_count": 18,
   "metadata": {},
   "outputs": [
    {
     "data": {
      "text/plain": [
       "list"
      ]
     },
     "execution_count": 18,
     "metadata": {},
     "output_type": "execute_result"
    }
   ],
   "source": [
    "years = list(df_life_exp.columns[1:].astype(int))\n",
    "type(years)"
   ]
  },
  {
   "cell_type": "code",
   "execution_count": 19,
   "metadata": {},
   "outputs": [
    {
     "name": "stdout",
     "output_type": "stream",
     "text": [
      "22253\n",
      "22253\n"
     ]
    }
   ],
   "source": [
    "list_year_col = [] \n",
    "for x in range(df_life_exp.shape[0]):\n",
    "    list_year_col += years\n",
    "#print(list_year_col)\n",
    "print(len(list_year_col))\n",
    "print(187*119)"
   ]
  },
  {
   "cell_type": "code",
   "execution_count": 20,
   "metadata": {},
   "outputs": [
    {
     "name": "stdout",
     "output_type": "stream",
     "text": [
      "22253\n",
      "22253\n"
     ]
    }
   ],
   "source": [
    "list_life_exp_col = []\n",
    "\n",
    "for i in range(df_life_exp.shape[0]):\n",
    "    list_life_exp_col += list(df_life_exp.loc[i,'1900':'2018'])\n",
    "\n",
    "#print(list_life_exp_col)\n",
    "print(len(list_life_exp_col))\n",
    "print(187*119)"
   ]
  },
  {
   "cell_type": "code",
   "execution_count": 21,
   "metadata": {},
   "outputs": [],
   "source": [
    "df_gdp_cap.reset_index(inplace= True)"
   ]
  },
  {
   "cell_type": "code",
   "execution_count": 22,
   "metadata": {},
   "outputs": [
    {
     "name": "stdout",
     "output_type": "stream",
     "text": [
      "22253\n",
      "22253\n"
     ]
    }
   ],
   "source": [
    "list_gdp_col = []\n",
    "\n",
    "for i in range(df_life_exp.shape[0]):\n",
    "    list_gdp_col += list(df_gdp_cap.loc[i,'1900':'2018'])\n",
    "\n",
    "print(len(list_gdp_col))\n",
    "print(187*119)"
   ]
  },
  {
   "cell_type": "code",
   "execution_count": 23,
   "metadata": {},
   "outputs": [],
   "source": [
    "df_total_pop.reset_index(inplace=True)"
   ]
  },
  {
   "cell_type": "code",
   "execution_count": 24,
   "metadata": {},
   "outputs": [
    {
     "name": "stdout",
     "output_type": "stream",
     "text": [
      "22253\n",
      "22253\n"
     ]
    }
   ],
   "source": [
    "list_total_pop_col = []\n",
    "\n",
    "for i in range(df_life_exp.shape[0]):\n",
    "    list_total_pop_col += list(df_total_pop.loc[i,'1900':'2018'])\n",
    "\n",
    "print(len(list_total_pop_col))\n",
    "print(187*119)"
   ]
  },
  {
   "cell_type": "code",
   "execution_count": 25,
   "metadata": {},
   "outputs": [],
   "source": [
    "list_total_pop_mil_col = []\n",
    "for i,x in enumerate(list_total_pop_col):\n",
    "    list_total_pop_mil_col.append(x/1000000)"
   ]
  },
  {
   "cell_type": "markdown",
   "metadata": {},
   "source": [
    "### making new DataFrame"
   ]
  },
  {
   "cell_type": "code",
   "execution_count": 26,
   "metadata": {},
   "outputs": [
    {
     "data": {
      "text/html": [
       "<div>\n",
       "<style scoped>\n",
       "    .dataframe tbody tr th:only-of-type {\n",
       "        vertical-align: middle;\n",
       "    }\n",
       "\n",
       "    .dataframe tbody tr th {\n",
       "        vertical-align: top;\n",
       "    }\n",
       "\n",
       "    .dataframe thead th {\n",
       "        text-align: right;\n",
       "    }\n",
       "</style>\n",
       "<table border=\"1\" class=\"dataframe\">\n",
       "  <thead>\n",
       "    <tr style=\"text-align: right;\">\n",
       "      <th></th>\n",
       "      <th>country</th>\n",
       "      <th>life_exp</th>\n",
       "      <th>gdp</th>\n",
       "      <th>pop_mill</th>\n",
       "      <th>year</th>\n",
       "    </tr>\n",
       "  </thead>\n",
       "  <tbody>\n",
       "    <tr>\n",
       "      <th>0</th>\n",
       "      <td>Afghanistan</td>\n",
       "      <td>29.2</td>\n",
       "      <td>793</td>\n",
       "      <td>5.02</td>\n",
       "      <td>1900</td>\n",
       "    </tr>\n",
       "    <tr>\n",
       "      <th>1</th>\n",
       "      <td>Afghanistan</td>\n",
       "      <td>29.3</td>\n",
       "      <td>796</td>\n",
       "      <td>5.05</td>\n",
       "      <td>1901</td>\n",
       "    </tr>\n",
       "    <tr>\n",
       "      <th>2</th>\n",
       "      <td>Afghanistan</td>\n",
       "      <td>29.3</td>\n",
       "      <td>798</td>\n",
       "      <td>5.09</td>\n",
       "      <td>1902</td>\n",
       "    </tr>\n",
       "    <tr>\n",
       "      <th>3</th>\n",
       "      <td>Afghanistan</td>\n",
       "      <td>29.4</td>\n",
       "      <td>801</td>\n",
       "      <td>5.12</td>\n",
       "      <td>1903</td>\n",
       "    </tr>\n",
       "    <tr>\n",
       "      <th>4</th>\n",
       "      <td>Afghanistan</td>\n",
       "      <td>29.4</td>\n",
       "      <td>804</td>\n",
       "      <td>5.15</td>\n",
       "      <td>1904</td>\n",
       "    </tr>\n",
       "    <tr>\n",
       "      <th>...</th>\n",
       "      <td>...</td>\n",
       "      <td>...</td>\n",
       "      <td>...</td>\n",
       "      <td>...</td>\n",
       "      <td>...</td>\n",
       "    </tr>\n",
       "    <tr>\n",
       "      <th>22248</th>\n",
       "      <td>Zimbabwe</td>\n",
       "      <td>57.0</td>\n",
       "      <td>1910</td>\n",
       "      <td>15.40</td>\n",
       "      <td>2014</td>\n",
       "    </tr>\n",
       "    <tr>\n",
       "      <th>22249</th>\n",
       "      <td>Zimbabwe</td>\n",
       "      <td>58.3</td>\n",
       "      <td>1890</td>\n",
       "      <td>15.80</td>\n",
       "      <td>2015</td>\n",
       "    </tr>\n",
       "    <tr>\n",
       "      <th>22250</th>\n",
       "      <td>Zimbabwe</td>\n",
       "      <td>59.3</td>\n",
       "      <td>1860</td>\n",
       "      <td>16.20</td>\n",
       "      <td>2016</td>\n",
       "    </tr>\n",
       "    <tr>\n",
       "      <th>22251</th>\n",
       "      <td>Zimbabwe</td>\n",
       "      <td>59.8</td>\n",
       "      <td>1910</td>\n",
       "      <td>16.50</td>\n",
       "      <td>2017</td>\n",
       "    </tr>\n",
       "    <tr>\n",
       "      <th>22252</th>\n",
       "      <td>Zimbabwe</td>\n",
       "      <td>60.2</td>\n",
       "      <td>1950</td>\n",
       "      <td>16.90</td>\n",
       "      <td>2018</td>\n",
       "    </tr>\n",
       "  </tbody>\n",
       "</table>\n",
       "<p>22253 rows × 5 columns</p>\n",
       "</div>"
      ],
      "text/plain": [
       "           country  life_exp   gdp  pop_mill  year\n",
       "0      Afghanistan      29.2   793      5.02  1900\n",
       "1      Afghanistan      29.3   796      5.05  1901\n",
       "2      Afghanistan      29.3   798      5.09  1902\n",
       "3      Afghanistan      29.4   801      5.12  1903\n",
       "4      Afghanistan      29.4   804      5.15  1904\n",
       "...            ...       ...   ...       ...   ...\n",
       "22248     Zimbabwe      57.0  1910     15.40  2014\n",
       "22249     Zimbabwe      58.3  1890     15.80  2015\n",
       "22250     Zimbabwe      59.3  1860     16.20  2016\n",
       "22251     Zimbabwe      59.8  1910     16.50  2017\n",
       "22252     Zimbabwe      60.2  1950     16.90  2018\n",
       "\n",
       "[22253 rows x 5 columns]"
      ]
     },
     "execution_count": 26,
     "metadata": {},
     "output_type": "execute_result"
    }
   ],
   "source": [
    "data = {'country': list_countries_col ,'life_exp': list_life_exp_col, 'gdp' :  list_gdp_col, 'pop_mill': list_total_pop_mil_col, 'year': list_year_col}\n",
    "newDF = pd.DataFrame(data)\n",
    "newDF"
   ]
  },
  {
   "cell_type": "markdown",
   "metadata": {},
   "source": [
    "## Defining function to save the plots and make Gifs"
   ]
  },
  {
   "cell_type": "code",
   "execution_count": 27,
   "metadata": {},
   "outputs": [],
   "source": [
    "def fig2img ( fig ):\n",
    "    \"\"\"\n",
    "    @brief Convert a Matplotlib figure to a PIL Image in RGBA format and return it\n",
    "    @param fig a matplotlib figure\n",
    "    @return a Python Imaging Library ( PIL ) image\n",
    "    \"\"\"\n",
    "    # put the figure pixmap into a numpy array\n",
    "    buf = fig2data ( fig )\n",
    "    w, h, d = buf.shape\n",
    "    im=PIL.Image.fromstring( \"RGBA\", ( w ,h ), buf.tostring())\n",
    "    return im.convert(mode=\"RGB\")\n"
   ]
  },
  {
   "cell_type": "code",
   "execution_count": 28,
   "metadata": {},
   "outputs": [],
   "source": [
    "VALID_EXTENSIONS = ('png', 'jpg')\n",
    "def create_gif(filenames, duration):\n",
    "    images = []\n",
    "    for filename in filenames:\n",
    "        images.append(imageio.imread(filename))\n",
    "    output_file = 'Gif-%s.gif' % datetime.datetime.now().strftime('%Y-%M-%d-%H-%M-%S')\n",
    "    imageio.mimsave(output_file, images, duration=duration)\n"
   ]
  },
  {
   "cell_type": "markdown",
   "metadata": {},
   "source": [
    "# Selecting Axes Limits"
   ]
  },
  {
   "cell_type": "code",
   "execution_count": 29,
   "metadata": {},
   "outputs": [
    {
     "data": {
      "text/html": [
       "<div>\n",
       "<style scoped>\n",
       "    .dataframe tbody tr th:only-of-type {\n",
       "        vertical-align: middle;\n",
       "    }\n",
       "\n",
       "    .dataframe tbody tr th {\n",
       "        vertical-align: top;\n",
       "    }\n",
       "\n",
       "    .dataframe thead th {\n",
       "        text-align: right;\n",
       "    }\n",
       "</style>\n",
       "<table border=\"1\" class=\"dataframe\">\n",
       "  <thead>\n",
       "    <tr style=\"text-align: right;\">\n",
       "      <th></th>\n",
       "      <th>life_exp</th>\n",
       "      <th>gdp</th>\n",
       "      <th>pop_mill</th>\n",
       "      <th>year</th>\n",
       "    </tr>\n",
       "  </thead>\n",
       "  <tbody>\n",
       "    <tr>\n",
       "      <th>count</th>\n",
       "      <td>22037.000000</td>\n",
       "      <td>22253.000000</td>\n",
       "      <td>22253.000000</td>\n",
       "      <td>22253.0000</td>\n",
       "    </tr>\n",
       "    <tr>\n",
       "      <th>mean</th>\n",
       "      <td>52.479093</td>\n",
       "      <td>7416.622298</td>\n",
       "      <td>19.493662</td>\n",
       "      <td>1959.0000</td>\n",
       "    </tr>\n",
       "    <tr>\n",
       "      <th>std</th>\n",
       "      <td>16.677604</td>\n",
       "      <td>13108.623558</td>\n",
       "      <td>83.701224</td>\n",
       "      <td>34.3519</td>\n",
       "    </tr>\n",
       "    <tr>\n",
       "      <th>min</th>\n",
       "      <td>1.090000</td>\n",
       "      <td>247.000000</td>\n",
       "      <td>0.004390</td>\n",
       "      <td>1900.0000</td>\n",
       "    </tr>\n",
       "    <tr>\n",
       "      <th>25%</th>\n",
       "      <td>35.700000</td>\n",
       "      <td>1320.000000</td>\n",
       "      <td>0.760000</td>\n",
       "      <td>1929.0000</td>\n",
       "    </tr>\n",
       "    <tr>\n",
       "      <th>50%</th>\n",
       "      <td>53.500000</td>\n",
       "      <td>2790.000000</td>\n",
       "      <td>3.350000</td>\n",
       "      <td>1959.0000</td>\n",
       "    </tr>\n",
       "    <tr>\n",
       "      <th>75%</th>\n",
       "      <td>67.800000</td>\n",
       "      <td>7630.000000</td>\n",
       "      <td>10.200000</td>\n",
       "      <td>1989.0000</td>\n",
       "    </tr>\n",
       "    <tr>\n",
       "      <th>max</th>\n",
       "      <td>84.200000</td>\n",
       "      <td>178000.000000</td>\n",
       "      <td>1420.000000</td>\n",
       "      <td>2018.0000</td>\n",
       "    </tr>\n",
       "  </tbody>\n",
       "</table>\n",
       "</div>"
      ],
      "text/plain": [
       "           life_exp            gdp      pop_mill        year\n",
       "count  22037.000000   22253.000000  22253.000000  22253.0000\n",
       "mean      52.479093    7416.622298     19.493662   1959.0000\n",
       "std       16.677604   13108.623558     83.701224     34.3519\n",
       "min        1.090000     247.000000      0.004390   1900.0000\n",
       "25%       35.700000    1320.000000      0.760000   1929.0000\n",
       "50%       53.500000    2790.000000      3.350000   1959.0000\n",
       "75%       67.800000    7630.000000     10.200000   1989.0000\n",
       "max       84.200000  178000.000000   1420.000000   2018.0000"
      ]
     },
     "execution_count": 29,
     "metadata": {},
     "output_type": "execute_result"
    }
   ],
   "source": [
    "newDF.describe()"
   ]
  },
  {
   "cell_type": "code",
   "execution_count": 30,
   "metadata": {
    "scrolled": true
   },
   "outputs": [
    {
     "data": {
      "text/plain": [
       "84.2"
      ]
     },
     "execution_count": 30,
     "metadata": {},
     "output_type": "execute_result"
    }
   ],
   "source": [
    "newDF.describe()['life_exp']['max']"
   ]
  },
  {
   "cell_type": "markdown",
   "metadata": {},
   "source": [
    "### Selecting Axes Limits: X-Axis"
   ]
  },
  {
   "cell_type": "code",
   "execution_count": 31,
   "metadata": {},
   "outputs": [
    {
     "data": {
      "text/plain": [
       "(247.0, 178000.0)"
      ]
     },
     "execution_count": 31,
     "metadata": {},
     "output_type": "execute_result"
    }
   ],
   "source": [
    "newDF.describe()['gdp']['min'],newDF.describe()['gdp']['max']"
   ]
  },
  {
   "cell_type": "markdown",
   "metadata": {},
   "source": [
    "### Selecting Axes Limits: Y-Axis"
   ]
  },
  {
   "cell_type": "code",
   "execution_count": 32,
   "metadata": {},
   "outputs": [
    {
     "data": {
      "text/plain": [
       "(1.09, 84.2)"
      ]
     },
     "execution_count": 32,
     "metadata": {},
     "output_type": "execute_result"
    }
   ],
   "source": [
    "newDF.describe()['life_exp']['min'],newDF.describe()['life_exp']['max']"
   ]
  },
  {
   "cell_type": "markdown",
   "metadata": {},
   "source": [
    "## Adding Column for Region"
   ]
  },
  {
   "cell_type": "code",
   "execution_count": 33,
   "metadata": {},
   "outputs": [
    {
     "data": {
      "text/html": [
       "<div>\n",
       "<style scoped>\n",
       "    .dataframe tbody tr th:only-of-type {\n",
       "        vertical-align: middle;\n",
       "    }\n",
       "\n",
       "    .dataframe tbody tr th {\n",
       "        vertical-align: top;\n",
       "    }\n",
       "\n",
       "    .dataframe thead th {\n",
       "        text-align: right;\n",
       "    }\n",
       "</style>\n",
       "<table border=\"1\" class=\"dataframe\">\n",
       "  <thead>\n",
       "    <tr style=\"text-align: right;\">\n",
       "      <th></th>\n",
       "      <th>Country</th>\n",
       "      <th>Year</th>\n",
       "      <th>fertility</th>\n",
       "      <th>life</th>\n",
       "      <th>population</th>\n",
       "      <th>child_mortality</th>\n",
       "      <th>gdp</th>\n",
       "      <th>region</th>\n",
       "    </tr>\n",
       "  </thead>\n",
       "  <tbody>\n",
       "    <tr>\n",
       "      <th>0</th>\n",
       "      <td>Afghanistan</td>\n",
       "      <td>1964</td>\n",
       "      <td>7.671</td>\n",
       "      <td>33.639</td>\n",
       "      <td>10474903.0</td>\n",
       "      <td>339.7</td>\n",
       "      <td>1182.0</td>\n",
       "      <td>South Asia</td>\n",
       "    </tr>\n",
       "    <tr>\n",
       "      <th>1</th>\n",
       "      <td>Afghanistan</td>\n",
       "      <td>1965</td>\n",
       "      <td>7.671</td>\n",
       "      <td>34.152</td>\n",
       "      <td>10697983.0</td>\n",
       "      <td>334.1</td>\n",
       "      <td>1182.0</td>\n",
       "      <td>South Asia</td>\n",
       "    </tr>\n",
       "    <tr>\n",
       "      <th>2</th>\n",
       "      <td>Afghanistan</td>\n",
       "      <td>1966</td>\n",
       "      <td>7.671</td>\n",
       "      <td>34.662</td>\n",
       "      <td>10927724.0</td>\n",
       "      <td>328.7</td>\n",
       "      <td>1168.0</td>\n",
       "      <td>South Asia</td>\n",
       "    </tr>\n",
       "    <tr>\n",
       "      <th>3</th>\n",
       "      <td>Afghanistan</td>\n",
       "      <td>1967</td>\n",
       "      <td>7.671</td>\n",
       "      <td>35.170</td>\n",
       "      <td>11163656.0</td>\n",
       "      <td>323.3</td>\n",
       "      <td>1173.0</td>\n",
       "      <td>South Asia</td>\n",
       "    </tr>\n",
       "    <tr>\n",
       "      <th>4</th>\n",
       "      <td>Afghanistan</td>\n",
       "      <td>1968</td>\n",
       "      <td>7.671</td>\n",
       "      <td>35.674</td>\n",
       "      <td>11411022.0</td>\n",
       "      <td>318.1</td>\n",
       "      <td>1187.0</td>\n",
       "      <td>South Asia</td>\n",
       "    </tr>\n",
       "  </tbody>\n",
       "</table>\n",
       "</div>"
      ],
      "text/plain": [
       "       Country  Year  fertility    life  population  child_mortality     gdp  \\\n",
       "0  Afghanistan  1964      7.671  33.639  10474903.0            339.7  1182.0   \n",
       "1  Afghanistan  1965      7.671  34.152  10697983.0            334.1  1182.0   \n",
       "2  Afghanistan  1966      7.671  34.662  10927724.0            328.7  1168.0   \n",
       "3  Afghanistan  1967      7.671  35.170  11163656.0            323.3  1173.0   \n",
       "4  Afghanistan  1968      7.671  35.674  11411022.0            318.1  1187.0   \n",
       "\n",
       "       region  \n",
       "0  South Asia  \n",
       "1  South Asia  \n",
       "2  South Asia  \n",
       "3  South Asia  \n",
       "4  South Asia  "
      ]
     },
     "execution_count": 33,
     "metadata": {},
     "output_type": "execute_result"
    }
   ],
   "source": [
    "data_region.head()"
   ]
  },
  {
   "cell_type": "code",
   "execution_count": 34,
   "metadata": {},
   "outputs": [
    {
     "data": {
      "text/plain": [
       "'South Asia'"
      ]
     },
     "execution_count": 34,
     "metadata": {},
     "output_type": "execute_result"
    }
   ],
   "source": [
    "data_region[data_region['Country'] == 'Pakistan'].reset_index()['region'][0]"
   ]
  },
  {
   "cell_type": "code",
   "execution_count": 35,
   "metadata": {},
   "outputs": [],
   "source": [
    "regions= {}\n",
    "for i,x in enumerate(set(data_region['Country'])):\n",
    "    regions[x] =  data_region[data_region['Country'] == x].reset_index()['region'][0]"
   ]
  },
  {
   "cell_type": "code",
   "execution_count": 36,
   "metadata": {},
   "outputs": [
    {
     "data": {
      "text/plain": [
       "'East Asia & Pacific'"
      ]
     },
     "execution_count": 36,
     "metadata": {},
     "output_type": "execute_result"
    }
   ],
   "source": [
    "regions['Australia']"
   ]
  },
  {
   "cell_type": "code",
   "execution_count": 37,
   "metadata": {},
   "outputs": [
    {
     "data": {
      "text/plain": [
       "['America',\n",
       " 'Europe & Central Asia',\n",
       " 'Middle East & North Africa',\n",
       " 'Sub-Saharan Africa',\n",
       " 'East Asia & Pacific',\n",
       " 'South Asia']"
      ]
     },
     "execution_count": 37,
     "metadata": {},
     "output_type": "execute_result"
    }
   ],
   "source": [
    "list(set(data_region['region']))\n"
   ]
  },
  {
   "cell_type": "code",
   "execution_count": 38,
   "metadata": {},
   "outputs": [
    {
     "data": {
      "text/html": [
       "<div>\n",
       "<style scoped>\n",
       "    .dataframe tbody tr th:only-of-type {\n",
       "        vertical-align: middle;\n",
       "    }\n",
       "\n",
       "    .dataframe tbody tr th {\n",
       "        vertical-align: top;\n",
       "    }\n",
       "\n",
       "    .dataframe thead th {\n",
       "        text-align: right;\n",
       "    }\n",
       "</style>\n",
       "<table border=\"1\" class=\"dataframe\">\n",
       "  <thead>\n",
       "    <tr style=\"text-align: right;\">\n",
       "      <th></th>\n",
       "      <th>country</th>\n",
       "      <th>life_exp</th>\n",
       "      <th>gdp</th>\n",
       "      <th>pop_mill</th>\n",
       "      <th>year</th>\n",
       "      <th>region</th>\n",
       "    </tr>\n",
       "  </thead>\n",
       "  <tbody>\n",
       "    <tr>\n",
       "      <th>0</th>\n",
       "      <td>Afghanistan</td>\n",
       "      <td>29.2</td>\n",
       "      <td>793</td>\n",
       "      <td>5.02</td>\n",
       "      <td>1900</td>\n",
       "      <td></td>\n",
       "    </tr>\n",
       "    <tr>\n",
       "      <th>1</th>\n",
       "      <td>Afghanistan</td>\n",
       "      <td>29.3</td>\n",
       "      <td>796</td>\n",
       "      <td>5.05</td>\n",
       "      <td>1901</td>\n",
       "      <td></td>\n",
       "    </tr>\n",
       "    <tr>\n",
       "      <th>2</th>\n",
       "      <td>Afghanistan</td>\n",
       "      <td>29.3</td>\n",
       "      <td>798</td>\n",
       "      <td>5.09</td>\n",
       "      <td>1902</td>\n",
       "      <td></td>\n",
       "    </tr>\n",
       "    <tr>\n",
       "      <th>3</th>\n",
       "      <td>Afghanistan</td>\n",
       "      <td>29.4</td>\n",
       "      <td>801</td>\n",
       "      <td>5.12</td>\n",
       "      <td>1903</td>\n",
       "      <td></td>\n",
       "    </tr>\n",
       "    <tr>\n",
       "      <th>4</th>\n",
       "      <td>Afghanistan</td>\n",
       "      <td>29.4</td>\n",
       "      <td>804</td>\n",
       "      <td>5.15</td>\n",
       "      <td>1904</td>\n",
       "      <td></td>\n",
       "    </tr>\n",
       "  </tbody>\n",
       "</table>\n",
       "</div>"
      ],
      "text/plain": [
       "       country  life_exp  gdp  pop_mill  year region\n",
       "0  Afghanistan      29.2  793      5.02  1900       \n",
       "1  Afghanistan      29.3  796      5.05  1901       \n",
       "2  Afghanistan      29.3  798      5.09  1902       \n",
       "3  Afghanistan      29.4  801      5.12  1903       \n",
       "4  Afghanistan      29.4  804      5.15  1904       "
      ]
     },
     "execution_count": 38,
     "metadata": {},
     "output_type": "execute_result"
    }
   ],
   "source": [
    "newDF['region']= \" \"\n",
    "newDF.head()"
   ]
  },
  {
   "cell_type": "code",
   "execution_count": 39,
   "metadata": {},
   "outputs": [
    {
     "name": "stderr",
     "output_type": "stream",
     "text": [
      "D:\\Anaconda3\\lib\\site-packages\\ipykernel_launcher.py:3: SettingWithCopyWarning: \n",
      "A value is trying to be set on a copy of a slice from a DataFrame\n",
      "\n",
      "See the caveats in the documentation: https://pandas.pydata.org/pandas-docs/stable/user_guide/indexing.html#returning-a-view-versus-a-copy\n",
      "  This is separate from the ipykernel package so we can avoid doing imports until\n",
      "D:\\Anaconda3\\lib\\site-packages\\ipykernel_launcher.py:5: SettingWithCopyWarning: \n",
      "A value is trying to be set on a copy of a slice from a DataFrame\n",
      "\n",
      "See the caveats in the documentation: https://pandas.pydata.org/pandas-docs/stable/user_guide/indexing.html#returning-a-view-versus-a-copy\n",
      "  \"\"\"\n"
     ]
    },
    {
     "data": {
      "text/html": [
       "<div>\n",
       "<style scoped>\n",
       "    .dataframe tbody tr th:only-of-type {\n",
       "        vertical-align: middle;\n",
       "    }\n",
       "\n",
       "    .dataframe tbody tr th {\n",
       "        vertical-align: top;\n",
       "    }\n",
       "\n",
       "    .dataframe thead th {\n",
       "        text-align: right;\n",
       "    }\n",
       "</style>\n",
       "<table border=\"1\" class=\"dataframe\">\n",
       "  <thead>\n",
       "    <tr style=\"text-align: right;\">\n",
       "      <th></th>\n",
       "      <th>country</th>\n",
       "      <th>life_exp</th>\n",
       "      <th>gdp</th>\n",
       "      <th>pop_mill</th>\n",
       "      <th>year</th>\n",
       "      <th>region</th>\n",
       "    </tr>\n",
       "  </thead>\n",
       "  <tbody>\n",
       "    <tr>\n",
       "      <th>0</th>\n",
       "      <td>Afghanistan</td>\n",
       "      <td>29.2</td>\n",
       "      <td>793</td>\n",
       "      <td>5.02</td>\n",
       "      <td>1900</td>\n",
       "      <td>South Asia</td>\n",
       "    </tr>\n",
       "    <tr>\n",
       "      <th>1</th>\n",
       "      <td>Afghanistan</td>\n",
       "      <td>29.3</td>\n",
       "      <td>796</td>\n",
       "      <td>5.05</td>\n",
       "      <td>1901</td>\n",
       "      <td>South Asia</td>\n",
       "    </tr>\n",
       "    <tr>\n",
       "      <th>2</th>\n",
       "      <td>Afghanistan</td>\n",
       "      <td>29.3</td>\n",
       "      <td>798</td>\n",
       "      <td>5.09</td>\n",
       "      <td>1902</td>\n",
       "      <td>South Asia</td>\n",
       "    </tr>\n",
       "    <tr>\n",
       "      <th>3</th>\n",
       "      <td>Afghanistan</td>\n",
       "      <td>29.4</td>\n",
       "      <td>801</td>\n",
       "      <td>5.12</td>\n",
       "      <td>1903</td>\n",
       "      <td>South Asia</td>\n",
       "    </tr>\n",
       "    <tr>\n",
       "      <th>4</th>\n",
       "      <td>Afghanistan</td>\n",
       "      <td>29.4</td>\n",
       "      <td>804</td>\n",
       "      <td>5.15</td>\n",
       "      <td>1904</td>\n",
       "      <td>South Asia</td>\n",
       "    </tr>\n",
       "  </tbody>\n",
       "</table>\n",
       "</div>"
      ],
      "text/plain": [
       "       country  life_exp  gdp  pop_mill  year      region\n",
       "0  Afghanistan      29.2  793      5.02  1900  South Asia\n",
       "1  Afghanistan      29.3  796      5.05  1901  South Asia\n",
       "2  Afghanistan      29.3  798      5.09  1902  South Asia\n",
       "3  Afghanistan      29.4  801      5.12  1903  South Asia\n",
       "4  Afghanistan      29.4  804      5.15  1904  South Asia"
      ]
     },
     "execution_count": 39,
     "metadata": {},
     "output_type": "execute_result"
    }
   ],
   "source": [
    "for i,x in enumerate(newDF['country']):\n",
    "    try:\n",
    "        newDF.region[i] = regions[x]\n",
    "    except:\n",
    "        newDF.region[i] = np.nan\n",
    "        \n",
    "newDF.head()"
   ]
  },
  {
   "cell_type": "code",
   "execution_count": 40,
   "metadata": {},
   "outputs": [
    {
     "data": {
      "text/html": [
       "<div>\n",
       "<style scoped>\n",
       "    .dataframe tbody tr th:only-of-type {\n",
       "        vertical-align: middle;\n",
       "    }\n",
       "\n",
       "    .dataframe tbody tr th {\n",
       "        vertical-align: top;\n",
       "    }\n",
       "\n",
       "    .dataframe thead th {\n",
       "        text-align: right;\n",
       "    }\n",
       "</style>\n",
       "<table border=\"1\" class=\"dataframe\">\n",
       "  <thead>\n",
       "    <tr style=\"text-align: right;\">\n",
       "      <th></th>\n",
       "      <th>country</th>\n",
       "      <th>life_exp</th>\n",
       "      <th>gdp</th>\n",
       "      <th>pop_mill</th>\n",
       "      <th>year</th>\n",
       "      <th>region</th>\n",
       "    </tr>\n",
       "  </thead>\n",
       "  <tbody>\n",
       "    <tr>\n",
       "      <th>357</th>\n",
       "      <td>Andorra</td>\n",
       "      <td>NaN</td>\n",
       "      <td>3200</td>\n",
       "      <td>0.00439</td>\n",
       "      <td>1900</td>\n",
       "      <td>NaN</td>\n",
       "    </tr>\n",
       "    <tr>\n",
       "      <th>358</th>\n",
       "      <td>Andorra</td>\n",
       "      <td>NaN</td>\n",
       "      <td>3230</td>\n",
       "      <td>0.00442</td>\n",
       "      <td>1901</td>\n",
       "      <td>NaN</td>\n",
       "    </tr>\n",
       "    <tr>\n",
       "      <th>359</th>\n",
       "      <td>Andorra</td>\n",
       "      <td>NaN</td>\n",
       "      <td>3270</td>\n",
       "      <td>0.00445</td>\n",
       "      <td>1902</td>\n",
       "      <td>NaN</td>\n",
       "    </tr>\n",
       "    <tr>\n",
       "      <th>360</th>\n",
       "      <td>Andorra</td>\n",
       "      <td>NaN</td>\n",
       "      <td>3310</td>\n",
       "      <td>0.00447</td>\n",
       "      <td>1903</td>\n",
       "      <td>NaN</td>\n",
       "    </tr>\n",
       "    <tr>\n",
       "      <th>361</th>\n",
       "      <td>Andorra</td>\n",
       "      <td>NaN</td>\n",
       "      <td>3350</td>\n",
       "      <td>0.00450</td>\n",
       "      <td>1904</td>\n",
       "      <td>NaN</td>\n",
       "    </tr>\n",
       "    <tr>\n",
       "      <th>...</th>\n",
       "      <td>...</td>\n",
       "      <td>...</td>\n",
       "      <td>...</td>\n",
       "      <td>...</td>\n",
       "      <td>...</td>\n",
       "      <td>...</td>\n",
       "    </tr>\n",
       "    <tr>\n",
       "      <th>22010</th>\n",
       "      <td>Yemen</td>\n",
       "      <td>68.4</td>\n",
       "      <td>3770</td>\n",
       "      <td>26.20000</td>\n",
       "      <td>2014</td>\n",
       "      <td>NaN</td>\n",
       "    </tr>\n",
       "    <tr>\n",
       "      <th>22011</th>\n",
       "      <td>Yemen</td>\n",
       "      <td>67.2</td>\n",
       "      <td>2640</td>\n",
       "      <td>26.90000</td>\n",
       "      <td>2015</td>\n",
       "      <td>NaN</td>\n",
       "    </tr>\n",
       "    <tr>\n",
       "      <th>22012</th>\n",
       "      <td>Yemen</td>\n",
       "      <td>66.7</td>\n",
       "      <td>2330</td>\n",
       "      <td>27.60000</td>\n",
       "      <td>2016</td>\n",
       "      <td>NaN</td>\n",
       "    </tr>\n",
       "    <tr>\n",
       "      <th>22013</th>\n",
       "      <td>Yemen</td>\n",
       "      <td>66.9</td>\n",
       "      <td>2380</td>\n",
       "      <td>28.30000</td>\n",
       "      <td>2017</td>\n",
       "      <td>NaN</td>\n",
       "    </tr>\n",
       "    <tr>\n",
       "      <th>22014</th>\n",
       "      <td>Yemen</td>\n",
       "      <td>67.1</td>\n",
       "      <td>2430</td>\n",
       "      <td>28.90000</td>\n",
       "      <td>2018</td>\n",
       "      <td>NaN</td>\n",
       "    </tr>\n",
       "  </tbody>\n",
       "</table>\n",
       "<p>1666 rows × 6 columns</p>\n",
       "</div>"
      ],
      "text/plain": [
       "       country  life_exp   gdp  pop_mill  year region\n",
       "357    Andorra       NaN  3200   0.00439  1900    NaN\n",
       "358    Andorra       NaN  3230   0.00442  1901    NaN\n",
       "359    Andorra       NaN  3270   0.00445  1902    NaN\n",
       "360    Andorra       NaN  3310   0.00447  1903    NaN\n",
       "361    Andorra       NaN  3350   0.00450  1904    NaN\n",
       "...        ...       ...   ...       ...   ...    ...\n",
       "22010    Yemen      68.4  3770  26.20000  2014    NaN\n",
       "22011    Yemen      67.2  2640  26.90000  2015    NaN\n",
       "22012    Yemen      66.7  2330  27.60000  2016    NaN\n",
       "22013    Yemen      66.9  2380  28.30000  2017    NaN\n",
       "22014    Yemen      67.1  2430  28.90000  2018    NaN\n",
       "\n",
       "[1666 rows x 6 columns]"
      ]
     },
     "execution_count": 40,
     "metadata": {},
     "output_type": "execute_result"
    }
   ],
   "source": [
    "newDF[newDF['region'].isnull()]"
   ]
  },
  {
   "cell_type": "markdown",
   "metadata": {},
   "source": [
    "### To find 'region' for some countries still having unknown region"
   ]
  },
  {
   "cell_type": "code",
   "execution_count": 41,
   "metadata": {},
   "outputs": [
    {
     "name": "stdout",
     "output_type": "stream",
     "text": [
      "AD\n",
      "EU\n"
     ]
    }
   ],
   "source": [
    "#we will be using this\n",
    "import pycountry_convert as pc  #pip install pycountry-convert\n",
    "\n",
    "country_code = pc.country_name_to_country_alpha2(\"Andorra\", cn_name_format=\"default\")\n",
    "print(country_code)\n",
    "continent_name = pc.country_alpha2_to_continent_code(country_code)\n",
    "print(continent_name)"
   ]
  },
  {
   "cell_type": "code",
   "execution_count": 42,
   "metadata": {},
   "outputs": [
    {
     "data": {
      "text/plain": [
       "357      Andorra\n",
       "358      Andorra\n",
       "359      Andorra\n",
       "360      Andorra\n",
       "361      Andorra\n",
       "          ...   \n",
       "22010      Yemen\n",
       "22011      Yemen\n",
       "22012      Yemen\n",
       "22013      Yemen\n",
       "22014      Yemen\n",
       "Name: country, Length: 1666, dtype: object"
      ]
     },
     "execution_count": 42,
     "metadata": {},
     "output_type": "execute_result"
    }
   ],
   "source": [
    "unknown_region_country= newDF[newDF['region'].isnull()]['country']\n",
    "unknown_region_country"
   ]
  },
  {
   "cell_type": "code",
   "execution_count": 43,
   "metadata": {},
   "outputs": [
    {
     "data": {
      "text/plain": [
       "0         357\n",
       "1         358\n",
       "2         359\n",
       "3         360\n",
       "4         361\n",
       "        ...  \n",
       "1661    22010\n",
       "1662    22011\n",
       "1663    22012\n",
       "1664    22013\n",
       "1665    22014\n",
       "Name: index, Length: 1666, dtype: int64"
      ]
     },
     "execution_count": 43,
     "metadata": {},
     "output_type": "execute_result"
    }
   ],
   "source": [
    "unknown_region_country_index = newDF[newDF['region'].isnull()].reset_index()['index']\n",
    "unknown_region_country_index"
   ]
  },
  {
   "cell_type": "code",
   "execution_count": 44,
   "metadata": {},
   "outputs": [
    {
     "data": {
      "text/plain": [
       "'Andorra'"
      ]
     },
     "execution_count": 44,
     "metadata": {},
     "output_type": "execute_result"
    }
   ],
   "source": [
    "newDF.loc[unknown_region_country_index[0], 'country']"
   ]
  },
  {
   "cell_type": "code",
   "execution_count": 45,
   "metadata": {},
   "outputs": [
    {
     "data": {
      "text/plain": [
       "'East Asia & Pacific'"
      ]
     },
     "execution_count": 45,
     "metadata": {},
     "output_type": "execute_result"
    }
   ],
   "source": [
    "def Cont_Name(name):\n",
    "    if name == 'OC':\n",
    "        return 'East Asia & Pacific'\n",
    "    if name == 'EU':\n",
    "        return 'Europe & Central Asia'\n",
    "    if name == 'NA':\n",
    "        return 'America'\n",
    "Cont_Name('OC')"
   ]
  },
  {
   "cell_type": "code",
   "execution_count": 46,
   "metadata": {},
   "outputs": [],
   "source": [
    "#Using pycountry\n",
    "for i,x in enumerate(unknown_region_country):\n",
    "    try:\n",
    "        country_code = pc.country_name_to_country_alpha2(x, cn_name_format=\"default\")\n",
    "        continent_name = pc.country_alpha2_to_continent_code(country_code)\n",
    "        newDF.loc[unknown_region_country_index[i], 'region']=Cont_Name(continent_name)\n",
    "\n",
    "    except:\n",
    "        pass\n",
    " "
   ]
  },
  {
   "cell_type": "markdown",
   "metadata": {},
   "source": [
    "### Some countries still not have region assigned"
   ]
  },
  {
   "cell_type": "code",
   "execution_count": 47,
   "metadata": {},
   "outputs": [
    {
     "data": {
      "text/plain": [
       "{'Central African Republic',\n",
       " 'Kyrgyz Republic',\n",
       " 'Lao',\n",
       " 'North Korea',\n",
       " 'Palestine',\n",
       " 'South Korea',\n",
       " 'St. Vincent and the Grenadines',\n",
       " 'Yemen'}"
      ]
     },
     "execution_count": 47,
     "metadata": {},
     "output_type": "execute_result"
    }
   ],
   "source": [
    "#countries still left\n",
    "set(newDF[newDF['region'].isnull()]['country'])"
   ]
  },
  {
   "cell_type": "code",
   "execution_count": 48,
   "metadata": {},
   "outputs": [
    {
     "data": {
      "text/plain": [
       "3808     Central African Republic\n",
       "3809     Central African Republic\n",
       "3810     Central African Republic\n",
       "3811     Central African Republic\n",
       "3812     Central African Republic\n",
       "                   ...           \n",
       "22010                       Yemen\n",
       "22011                       Yemen\n",
       "22012                       Yemen\n",
       "22013                       Yemen\n",
       "22014                       Yemen\n",
       "Name: country, Length: 952, dtype: object"
      ]
     },
     "execution_count": 48,
     "metadata": {},
     "output_type": "execute_result"
    }
   ],
   "source": [
    "stillunknown_region_country= newDF[newDF['region'].isnull()]['country']\n",
    "stillunknown_region_country"
   ]
  },
  {
   "cell_type": "code",
   "execution_count": 49,
   "metadata": {},
   "outputs": [
    {
     "data": {
      "text/plain": [
       "0       3808\n",
       "1       3809\n",
       "2       3810\n",
       "3       3811\n",
       "4       3812\n",
       "       ...  \n",
       "947    22010\n",
       "948    22011\n",
       "949    22012\n",
       "950    22013\n",
       "951    22014\n",
       "Name: index, Length: 952, dtype: int64"
      ]
     },
     "execution_count": 49,
     "metadata": {},
     "output_type": "execute_result"
    }
   ],
   "source": [
    "stillunknown_region_country_index = newDF[newDF['region'].isnull()].reset_index()['index']\n",
    "stillunknown_region_country_index"
   ]
  },
  {
   "cell_type": "code",
   "execution_count": 50,
   "metadata": {},
   "outputs": [],
   "source": [
    "def Country_Manual_Assign(name):\n",
    "    if name == 'Central African Republic':\n",
    "        return 'Sub-Saharan Africa'\n",
    "    if name == 'Kyrgyz Republic':\n",
    "        return 'Europe & Central Asia'\n",
    "    if name == 'Lao':\n",
    "        return 'East Asia & Pacific'\n",
    "    if name == 'North Korea':\n",
    "        return 'East Asia & Pacific'\n",
    "    if name == 'Palestine':\n",
    "        return 'Middle East & North Africa'\n",
    "    if name == 'South Korea':\n",
    "         return 'East Asia & Pacific'\n",
    "    if name == 'St. Vincent and the Grenadines':\n",
    "        return 'America'\n",
    "    if name == 'Yemen':\n",
    "        return 'Middle East & North Africa'"
   ]
  },
  {
   "cell_type": "code",
   "execution_count": 51,
   "metadata": {},
   "outputs": [
    {
     "data": {
      "text/plain": [
       "set()"
      ]
     },
     "execution_count": 51,
     "metadata": {},
     "output_type": "execute_result"
    }
   ],
   "source": [
    "for i,x in enumerate(stillunknown_region_country):\n",
    "    newDF.loc[stillunknown_region_country_index[i], 'region']=Country_Manual_Assign(x)\n",
    "    \n",
    "#countries still left\n",
    "set(newDF[newDF['region'].isnull()]['country'])"
   ]
  },
  {
   "cell_type": "markdown",
   "metadata": {},
   "source": [
    "## Color of the Regions"
   ]
  },
  {
   "cell_type": "code",
   "execution_count": 52,
   "metadata": {},
   "outputs": [],
   "source": [
    "col = {'South Asia':'red','Europe & Central Asia':'green','Middle East & North Africa':'blue','Sub-Saharan Africa':'yellow',\n",
    "       'America':'orange','East Asia & Pacific':'black'}"
   ]
  },
  {
   "cell_type": "code",
   "execution_count": 53,
   "metadata": {},
   "outputs": [
    {
     "data": {
      "text/plain": [
       "['South Asia',\n",
       " 'Europe & Central Asia',\n",
       " 'Middle East & North Africa',\n",
       " 'Sub-Saharan Africa',\n",
       " 'America',\n",
       " 'East Asia & Pacific']"
      ]
     },
     "execution_count": 53,
     "metadata": {},
     "output_type": "execute_result"
    }
   ],
   "source": [
    "list(col)"
   ]
  },
  {
   "cell_type": "code",
   "execution_count": 54,
   "metadata": {},
   "outputs": [
    {
     "data": {
      "text/html": [
       "<div>\n",
       "<style scoped>\n",
       "    .dataframe tbody tr th:only-of-type {\n",
       "        vertical-align: middle;\n",
       "    }\n",
       "\n",
       "    .dataframe tbody tr th {\n",
       "        vertical-align: top;\n",
       "    }\n",
       "\n",
       "    .dataframe thead th {\n",
       "        text-align: right;\n",
       "    }\n",
       "</style>\n",
       "<table border=\"1\" class=\"dataframe\">\n",
       "  <thead>\n",
       "    <tr style=\"text-align: right;\">\n",
       "      <th></th>\n",
       "      <th>country</th>\n",
       "      <th>life_exp</th>\n",
       "      <th>gdp</th>\n",
       "      <th>pop_mill</th>\n",
       "      <th>year</th>\n",
       "      <th>region</th>\n",
       "      <th>color</th>\n",
       "    </tr>\n",
       "  </thead>\n",
       "  <tbody>\n",
       "    <tr>\n",
       "      <th>0</th>\n",
       "      <td>Afghanistan</td>\n",
       "      <td>29.2</td>\n",
       "      <td>793</td>\n",
       "      <td>5.02</td>\n",
       "      <td>1900</td>\n",
       "      <td>South Asia</td>\n",
       "      <td>red</td>\n",
       "    </tr>\n",
       "    <tr>\n",
       "      <th>1</th>\n",
       "      <td>Afghanistan</td>\n",
       "      <td>29.3</td>\n",
       "      <td>796</td>\n",
       "      <td>5.05</td>\n",
       "      <td>1901</td>\n",
       "      <td>South Asia</td>\n",
       "      <td>red</td>\n",
       "    </tr>\n",
       "    <tr>\n",
       "      <th>2</th>\n",
       "      <td>Afghanistan</td>\n",
       "      <td>29.3</td>\n",
       "      <td>798</td>\n",
       "      <td>5.09</td>\n",
       "      <td>1902</td>\n",
       "      <td>South Asia</td>\n",
       "      <td>red</td>\n",
       "    </tr>\n",
       "    <tr>\n",
       "      <th>3</th>\n",
       "      <td>Afghanistan</td>\n",
       "      <td>29.4</td>\n",
       "      <td>801</td>\n",
       "      <td>5.12</td>\n",
       "      <td>1903</td>\n",
       "      <td>South Asia</td>\n",
       "      <td>red</td>\n",
       "    </tr>\n",
       "    <tr>\n",
       "      <th>4</th>\n",
       "      <td>Afghanistan</td>\n",
       "      <td>29.4</td>\n",
       "      <td>804</td>\n",
       "      <td>5.15</td>\n",
       "      <td>1904</td>\n",
       "      <td>South Asia</td>\n",
       "      <td>red</td>\n",
       "    </tr>\n",
       "  </tbody>\n",
       "</table>\n",
       "</div>"
      ],
      "text/plain": [
       "       country  life_exp  gdp  pop_mill  year      region color\n",
       "0  Afghanistan      29.2  793      5.02  1900  South Asia   red\n",
       "1  Afghanistan      29.3  796      5.05  1901  South Asia   red\n",
       "2  Afghanistan      29.3  798      5.09  1902  South Asia   red\n",
       "3  Afghanistan      29.4  801      5.12  1903  South Asia   red\n",
       "4  Afghanistan      29.4  804      5.15  1904  South Asia   red"
      ]
     },
     "execution_count": 54,
     "metadata": {},
     "output_type": "execute_result"
    }
   ],
   "source": [
    "newDF['color']=newDF['region'].map(col)\n",
    "newDF.head()"
   ]
  },
  {
   "cell_type": "markdown",
   "metadata": {},
   "source": [
    "# Scatter Plot"
   ]
  },
  {
   "cell_type": "code",
   "execution_count": 55,
   "metadata": {},
   "outputs": [
    {
     "data": {
      "text/plain": [
       "<Figure size 1080x720 with 0 Axes>"
      ]
     },
     "metadata": {},
     "output_type": "display_data"
    }
   ],
   "source": [
    "filenames = []\n",
    "fig = plt.figure(figsize=(15,10))\n",
    "\n",
    "Title_font = {'family': 'Times New Roman', 'color':  'black', 'weight': 'normal', 'size': 40 }\n",
    "for i in range(1900,2019):\n",
    "    \n",
    "    # Plotting \n",
    "    df_now = newDF[newDF['year']==i]\n",
    "    plt.scatter(df_now['gdp'], df_now['life_exp'],s= 4* df_now['pop_mill'], c= df_now['color'], alpha =0.7)\n",
    "    \n",
    "    # Setting axes and labels\n",
    "    plt.xscale('log')\n",
    "    plt.xlabel('GDP per Capita [in USD]', fontsize=20)\n",
    "    plt.ylabel('Life Expectancy [in years]', fontsize=20)\n",
    "    plt.title('World Development In Year ' + str(i) + \" \", fontsize= 35)\n",
    "    tick_val = [1000,10000,100000]\n",
    "    tick_lab = ['1k','10k','100k']\n",
    "    plt.xticks(tick_val,tick_lab)\n",
    "    plt.xlim(newDF.describe()['gdp']['min'],newDF.describe()['gdp']['max'])\n",
    "    plt.ylim(newDF.describe()['life_exp']['min'],100)\n",
    "    #plt.grid(b=None)\n",
    "    \n",
    "    \n",
    "    #for legend \n",
    "    r_circle = Line2D([0], [0], marker='o', color='w', label='South Asia', markerfacecolor='red', markersize=16, linestyle= \"\", markeredgecolor= 'none')\n",
    "    g_circle = Line2D([0], [0], marker='o', color='w', label='Europe & Central Asia', markerfacecolor='green', markersize=16, linestyle= \"\", markeredgecolor= 'none')\n",
    "    b_circle = Line2D([0], [0], marker='o', color='w', label='Middle East & North Africa', markerfacecolor='blue', markersize=16, linestyle= \"\", markeredgecolor= 'none')\n",
    "    y_circle = Line2D([0], [0], marker='o', color='w', label='Sub-Saharan Africa', markerfacecolor='yellow', markersize=16, linestyle= \"\", markeredgecolor= 'none')\n",
    "    o_circle = Line2D([0], [0], marker='o', color='w', label='America', markerfacecolor='orange', markersize=16, linestyle= \"\", markeredgecolor= 'none')\n",
    "    bk_circle = Line2D([0], [0], marker='o', color='w', label='East Asia & Pacific', markerfacecolor='black', markersize=16, linestyle= \"\", markeredgecolor= 'none')\n",
    "    plt.legend(handles=[r_circle, g_circle, b_circle, y_circle, o_circle, bk_circle],loc=\"lower right\",fontsize=16)\n",
    "    \n",
    "    #Year as a text\n",
    "    font_year = {'family': 'Lucida Console', 'color':  'green', 'weight': 'normal', 'size': 150 }\n",
    "    plt.text(300, 75, str(i), fontdict = font_year, alpha =0.3)\n",
    "    font_name = {'family': 'Arial', 'color':  'black', 'weight': 'normal', 'size': 15 }\n",
    "    plt.text(300, 2, 'Made by: Muhammad Raza Khalid Saleemi', fontdict = font_name)\n",
    "    font_pop= {'family': 'Arial', 'color':  'green', 'weight': 'normal', 'size': 25 }\n",
    "    plt.text(400, 70, 'Bubble Size : Population ', fontdict = font_pop, alpha =0.5)\n",
    "    \n",
    "    filename=str(i)+'.png'\n",
    "    filenames.append(filename) \n",
    "    plt.savefig(filename, dpi=96)\n",
    "    plt.gca()\n",
    "    fig.clf()\n",
    "duration =0.2\n",
    "for i in range(5):\n",
    "    filenames.append(\"2018.png\")\n",
    "create_gif(filenames,duration)"
   ]
  },
  {
   "cell_type": "markdown",
   "metadata": {},
   "source": [
    "# Acknowledgement:  Dice Analytics (https://diceanalytics.pk/)"
   ]
  }
 ],
 "metadata": {
  "kernelspec": {
   "display_name": "Python 3",
   "language": "python",
   "name": "python3"
  },
  "language_info": {
   "codemirror_mode": {
    "name": "ipython",
    "version": 3
   },
   "file_extension": ".py",
   "mimetype": "text/x-python",
   "name": "python",
   "nbconvert_exporter": "python",
   "pygments_lexer": "ipython3",
   "version": "3.7.6"
  }
 },
 "nbformat": 4,
 "nbformat_minor": 4
}
